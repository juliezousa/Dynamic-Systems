{
 "cells": [
  {
   "cell_type": "markdown",
   "id": "cc3c7404-2356-49b5-91b7-1d4d7cfccf67",
   "metadata": {},
   "source": [
    "## Analytical Results on the Stability of Age-Structured Recurrent Epidemic Models"
   ]
  },
  {
   "cell_type": "markdown",
   "id": "1634601c-6df1-438e-bee6-c95c78211afe",
   "metadata": {},
   "source": [
    "##### Author: David Greenhalgh\n",
    "##### Presented by: Julie Souza\n"
   ]
  },
  {
   "cell_type": "markdown",
   "id": "b1b40197-652e-4af7-a8ca-181e17cdf268",
   "metadata": {},
   "source": [
    "- This paper examines the equilibrium and stability properties of relatively simple mathematical models for the transmission of infectious diseases;\n",
    "- Discuss some simple models which incorporate an age structure into the population amongst whom the disease is spreading, since recent work has shown this feature to be important\n",
    "- The results are relevant in three ways: \n",
    "    -for predicting the long-term overall level of incidence of disease; \n",
    "    -for describing the oscillations of the incidence of disease around this equilibrium level; \n",
    "    -and for designing immunization programmes.\n"
   ]
  },
  {
   "cell_type": "markdown",
   "id": "0515a12f-7f43-483d-8b76-f023fc68feae",
   "metadata": {},
   "source": [
    "### Simple model and previous results\n"
   ]
  },
  {
   "cell_type": "markdown",
   "id": "6f2cb6ca-4e33-49f7-bbfb-788f6d7d6689",
   "metadata": {},
   "source": [
    "The differential equations which describe the progress of the disease can be taken to be\n",
    "\n",
    "$\\frac{dX}{dt} = \\mu N - \\lambda X - \\mu X,$  \n",
    "\n",
    "$\\frac{dY}{dt} = \\lambda X - (\\mu+\\gamma) Y,$  \n",
    "\n",
    "$\\frac{dZ}{dt} = \\gamma Y - (\\mu) Z$ \n",
    "\n",
    "Analysing the asymptotic behaviour in the region\n",
    "\n",
    "$D : X > 0, Y > 0, X+ Y < N$\n",
    "\n"
   ]
  },
  {
   "cell_type": "markdown",
   "id": "61f84248-93d3-4734-9748-a89a568ff9d8",
   "metadata": {},
   "source": [
    "The critical points of the system are\n",
    "\n",
    "$X = N, Y = 0$\n",
    "\n",
    "\n",
    "and\n",
    "\n",
    "$X = \\rho, Y = \\frac{\\mu(N - \\rho)}{\\lambda + \\mu}$\n",
    "\n",
    "\n",
    "where\n",
    "\n",
    "$\\rho = \\frac{\\lambda + \\mu}{\\beta}$\n"
   ]
  },
  {
   "cell_type": "markdown",
   "id": "58007e5f-2354-4f46-98bc-f089a633e331",
   "metadata": {},
   "source": [
    "Since we know the critical points, we will examine if this critical points are stable or not. Translating the first critical point to the origin letting\n",
    "\n",
    "X = N(1+ U)\n",
    "\n",
    "we change the original system \n",
    "\n",
    "$\\frac{dU}{dt} = -\\mu U - \\beta Y - \\beta Y U,$  \n",
    "\n",
    "$\\frac{dY}{dt} = (\\beta N -\\lambda - \\mu)Y + \\beta N Y U.$  \n"
   ]
  },
  {
   "cell_type": "markdown",
   "id": "d8c567a1-27fd-4014-8b38-afb15c781746",
   "metadata": {},
   "source": [
    "The roots of the characteristic equation are\n",
    "\n",
    "$-\\mu$\n",
    "\n",
    "and\n",
    "\n",
    "$\\beta N - \\lambda - \\mu$\n",
    "\n",
    "And if\n",
    "\n",
    "$N < \\frac{\\lambda + \\mu}{\\beta} = \\rho$\n",
    "\n",
    "Both roots are negative and the critical point are stable. From the closure property of  D, the point is the only critical point in D, D is a region of asymptotic stability. If N>⍴ the point critical is unstable, one root is positive, and is outside D. Those statements are based on theorems found Stuart & Humphries [3].\n"
   ]
  },
  {
   "cell_type": "markdown",
   "id": "63a257f5-f23e-4d2c-832a-413212191493",
   "metadata": {},
   "source": [
    "**Useful theorem**\n",
    "\n",
    "**Theorem 1.3.7 Linear Stability and Stability** Let $G \\in C^2(\\mathcal{R}^p, \\mathcal{R}^p)$. Then a fixed pointn $\\bar{U}$ of a map is assimptotically stable if the eigenvalues of $dG(\\bar{U})$ lie strictly inside the unit circle. If any of the aigenvalues lie outside the unit circle the fized point is unstable."
   ]
  },
  {
   "cell_type": "markdown",
   "id": "cc60939f-d439-4dc8-b678-218b929a9cb0",
   "metadata": {},
   "source": [
    "Translating the second critical point to the origin, letting\n",
    "\n",
    "$X = \\rho '(1+U),$\n",
    "\n",
    "and\n",
    "\n",
    "$Y = \\frac{\\mu(N-\\rho ')(1+V)}{\\gamma +\\mu}$\n",
    "\n",
    "\n",
    "\n",
    "Then the system become\n",
    "\n",
    "$\\rho '\\frac{dU}{dt} = -\\mu NU - \\mu(N-\\rho) V - \\mu(N-\\rho) UV,$  \n",
    "\n",
    "$\\frac{dV}{dt} = (\\lambda + \\mu)U + (\\lambda + \\mu)UV.$  \n",
    "\n"
   ]
  },
  {
   "cell_type": "markdown",
   "id": "30df21fc-78d8-4766-afeb-666e5da8dc3c",
   "metadata": {},
   "source": [
    "The root of the linear part of the characteristic equation are\n",
    "\n",
    "$r_{\\pm} = \\frac{-\\mu N \\pm \\sqrt{\\mu^2 N^2 - 4\\rho\\mu(\\gamma+ \\mu)(N-\\rho)}}{2\\rho}$\n",
    "\n",
    "\n",
    "If $N < ⍴$, one root is negative and we have instability which lies outside of $D$. $N > ⍴$ we have both negative and stability. \n",
    "For study the stability for the point critical we used the Lyapunov’s direct method. Is called direct because can be applied directly to the equation, without any knowledge of the solutions. \n"
   ]
  },
  {
   "cell_type": "markdown",
   "id": "9f8fd925-dca3-491b-aa6d-e82dba8af8e8",
   "metadata": {},
   "source": [
    "**the following theorem is useful**\n",
    "\n",
    "**Theorem 2.3.4 Lyapunov Functions and Stability** Let $f \\in C^2(\\mathcal{R}^p, \\mathcal{R}^p)$. If there excists a positive definite funcion Lyapunov function on some neighborhood of an equilibrium point $\\bar{u}$ then $\\bar{u}$ is stable. If, in addition,\n",
    "\n",
    "$\\frac{d}{dt}(V(u(t)))<0 \\forall u \\in B | \\{\\bar{u}\\} $\n",
    "\n",
    "then the steady state is asymptotically stable.\n",
    "\n",
    "\n"
   ]
  },
  {
   "cell_type": "markdown",
   "id": "01432bb3-0335-463f-9895-a55f6c5dd53d",
   "metadata": {},
   "source": [
    "for our system, the Lyapunov's function\n",
    "\n",
    "$\\mathcal{L}(U,V)=\\frac{\\rho '[U - ln(1+U)]}{\\mu}+\\frac{(N-\\rho ')[V - ln(1+V)]}{\\lambda + \\mu}$\n",
    "\n",
    "\n",
    "is a positive definite scalar function defined on the set\n",
    "\n",
    "$\\Omega = \\{ (U,V) : U > -1, V> -1, \\frac{\\rho '(1+U)}{\\mu}+\\frac{(N-\\rho)(1+V)}{\\gamma + \\mu} < N\\}$\n",
    "\n",
    "which is the set D in the UV coordinate system.\n"
   ]
  },
  {
   "cell_type": "markdown",
   "id": "73171910-760a-47a4-9340-89f48017ad8b",
   "metadata": {},
   "source": [
    "We now have aregion of asymptotic stability for the second critical point which touchs the boundary of D;\n",
    "(i) If p < 1, then the trivial equilibrium is globally stable. This means that, whatever the starting state of the epidemic, the disease will eventually die out.\n",
    "(ii) If p > 1, then there are two possibilities.\n",
    "(a) If the epidemic starts with no infected people, then the epidemic will eventually tend to the equilibrium with no disease present, even if some people are initially immune.\n",
    "(b) If the epidemic starts with some infected people, then the epidemic will tend to the equilibrium with disease present. These results are suggested heuristically by performing a local stability analysis. \n"
   ]
  },
  {
   "cell_type": "code",
   "execution_count": 1,
   "id": "de417160-175b-4bb8-b4c8-a6c7e48e213f",
   "metadata": {},
   "outputs": [],
   "source": [
    "### Trying find the Lyapunov spectrum from the ODE\n",
    "from numpy import array, arange, zeros, dot, log\n",
    "import matplotlib.pyplot as plt\n",
    "from numpy.linalg import norm\n"
   ]
  },
  {
   "cell_type": "code",
   "execution_count": 8,
   "id": "90e31877-266c-4b93-b0b2-b9b39f9c4aa3",
   "metadata": {},
   "outputs": [],
   "source": [
    "# Evolution equation of tracjectories and tangential vectors\n",
    "def f(r):\n",
    "    x = r[0]\n",
    "    y = r[1]\n",
    "    z = r[2]\n",
    "\n",
    "    fx = mu*N - (lambd + mu) * (x)\n",
    "    fy = lambd * (x) - (lambd + mu)*y\n",
    "    fz = gamma * y - mu * z\n",
    "\n",
    "    return array([fx,fy,fz], float)"
   ]
  },
  {
   "cell_type": "code",
   "execution_count": 3,
   "id": "f27d69b6-1318-470c-b74a-5e2a04166c34",
   "metadata": {},
   "outputs": [],
   "source": [
    "def jacobian(r):\n",
    "    M = zeros([3,3])\n",
    "    M[0,:] = [ - (lambd + mu), 0, 0]\n",
    "    M[1,:] = [lambd,- (lambd + mu), 0 ]\n",
    "    M[2,:] = [0, gamma, -mu]\n",
    "\n",
    "    return M"
   ]
  },
  {
   "cell_type": "code",
   "execution_count": 4,
   "id": "e0bc5f86-d747-4c4c-a541-466953478545",
   "metadata": {},
   "outputs": [],
   "source": [
    "def g(d, r):\n",
    "    dx = d[0]\n",
    "    dy = d[1]\n",
    "    dz = d[2]\n",
    "\n",
    "    M = jacobian(r)\n",
    "\n",
    "    dfx = dot(M, dx)\n",
    "    dfy = dot(M, dy)\n",
    "    dfz = dot(M, dz)\n",
    "\n",
    "    return array([dfx, dfy, dfz], float)"
   ]
  },
  {
   "cell_type": "code",
   "execution_count": 9,
   "id": "6ce77292-ec7b-4423-a7dd-dd2867a6594f",
   "metadata": {},
   "outputs": [],
   "source": [
    "# Initial conditions\n",
    "d = array([[1,0,0], [0,1,0], [0,0,1]], float)\n",
    "r = array([0, 0, 0], float)\n",
    "lambd, mu, gamma, N = 1, 1, 1, 10**5\n",
    "T = 10**5                         # time steps \n",
    "dt = 0.01                          # time increment\n",
    "Teq = 10**4                        # Transient time\n",
    "\n",
    "l1, l2, l3 = 0, 0, 0               # Lengths\n",
    "\n",
    "xpoints, ypoints, zpoints  = [], [], []"
   ]
  },
  {
   "cell_type": "code",
   "execution_count": 10,
   "id": "3bd778b0-1104-4cda-a856-ac4c61617072",
   "metadata": {},
   "outputs": [
    {
     "data": {
      "text/plain": [
       "(-0.9999999999172815, -0.9975930118655083, -0.004813971011425222)"
      ]
     },
     "execution_count": 10,
     "metadata": {},
     "output_type": "execute_result"
    }
   ],
   "source": [
    "# Transient\n",
    "for t in range(Teq):\n",
    "    # RK4 - Method \n",
    "    k1  = dt * f(r)                 \n",
    "    k11 = dt * g(d, r)\n",
    "\n",
    "    k2  = dt * f(r + 0.5 * k1)\n",
    "    k22 = dt * g(d + 0.5 * k11, r + 0.5 * k1)\n",
    "\n",
    "    k3  = dt * f(r + 0.5 * k2)\n",
    "    k33 = dt * g(d + 0.5 * k22, r + 0.5 * k2)\n",
    "\n",
    "    k4  = dt * f(r + k3)\n",
    "    k44 = dt * g(d + k33, r + k3)\n",
    "\n",
    "    r  += (k1  + 2 * k2  + 2 * k3  + k4)  / 6\n",
    "    d  += (k11 + 2 * k22 + 2 * k33 + k44) / 6\n",
    "\n",
    "    # Gram-Schmidt-Scheme\n",
    "    orth_1 = d[0]                    \n",
    "    d[0] = orth_1 / norm(orth_1)\n",
    "\n",
    "    orth_2 = d[1] - dot(d[1], d[0]) * d[0]\n",
    "    d[1] = orth_2 / norm(orth_2)\n",
    "\n",
    "    orth_3 = d[2] - (dot(d[2], d[1]) * d[1]) - (dot(d[2], d[0]) * d[0]) \n",
    "    d[2] = orth_3 / norm(orth_3)\n",
    "\n",
    "for t in range(T):\n",
    "    k1  = dt * f(r)                 \n",
    "    k11 = dt * g(d, r)\n",
    "\n",
    "    k2  = dt * f(r + 0.5 * k1)\n",
    "    k22 = dt * g(d + 0.5 * k11, r + 0.5 * k1)\n",
    "\n",
    "    k3  = dt * f(r + 0.5 * k2)\n",
    "    k33 = dt * g(d + 0.5 * k22, r + 0.5 * k2)\n",
    "\n",
    "    k4  = dt * f(r + k3)\n",
    "    k44 = dt * g(d + k33, r + k3)\n",
    "\n",
    "    r  += (k1  + 2 * k2  + 2 * k3  + k4)  / 6\n",
    "    d  += (k11 + 2 * k22 + 2 * k33 + k44) / 6\n",
    "\n",
    "    orth_1 = d[0]                    # Gram-Schmidt-Scheme\n",
    "    l1 += log(norm(orth_1))\n",
    "    d[0] = orth_1 / norm(orth_1)\n",
    "\n",
    "    orth_2 = d[1] - dot(d[1], d[0]) * d[0]\n",
    "    l2 += log(norm(orth_2))\n",
    "    d[1] = orth_2 / norm(orth_2)\n",
    "\n",
    "    orth_3 = d[2] - (dot(d[2], d[1]) * d[1]) - (dot(d[2], d[0]) * d[0]) \n",
    "    l3 += log(norm(orth_3))\n",
    "    d[2] = orth_3 / norm(orth_3)\n",
    "\n",
    "lya1 = l1 / (dt * T)\n",
    "lya2 = l2 / (dt * T)  - lya1\n",
    "lya3 = l3 / (dt * T) -  lya1 - lya2 \n",
    "\n",
    "lya1, lya2, lya3\n"
   ]
  },
  {
   "cell_type": "markdown",
   "id": "c0a4d6c4-6c19-41db-98ab-a23c23e3b130",
   "metadata": {},
   "source": [
    "The solution above is just a toy model to see how the lyapunov's method can be implemented in python. The paper who bring the analytical solution is  [2]. The implementation was based in stackoverflow (a lot of sources) recomendations."
   ]
  },
  {
   "cell_type": "markdown",
   "id": "736a4fbd-8301-4d24-bf88-e8fdebf6e2af",
   "metadata": {},
   "source": [
    "### Age-structured models"
   ]
  },
  {
   "cell_type": "markdown",
   "id": "4dcb5d71-a206-4ae0-ab3e-e1f42e6844f7",
   "metadata": {},
   "source": [
    "Back to the paper we discuss how the author make a analytical analysis of the stability of a age-structured system. The construction don't bring a lot of options to be implemented at first. I espected explore the Physics Informed Neural Networks (in the next presentation) to find equations that will fit with real data already modelled in a regular way and solved by finite differences."
   ]
  },
  {
   "cell_type": "markdown",
   "id": "635162bd-2ede-4e40-8041-7a6d73eb91fb",
   "metadata": {},
   "source": [
    "References:\n",
    "\n",
    "[1]DAVID GREENHALGH, Analytical Results on the Stability of Age-Structured Recurrent Epidemic Models, Mathematical Medicine and Biology: A Journal of the IMA, Volume 4, Issue 2, 1987, Pages 109–144, https://doi.org/10.1093/imammb/4.2.109\n",
    "\n",
    "[2] Wolf, Alan & Swift, Jack & Swinney, Harry & Vastano, John. (1985). Determining Lyapunov Exponents From a Time Series. Physica D: Nonlinear Phenomena. 16. 285-317. 10.1016/0167-2789(85)90011-9. \n",
    "\n",
    "[3] Guckenheimer, John. (1998). DYNAMICAL SYSTEMS AND NUMERICAL ANALYSIS By A. M. STUART and A. R. HUMPHRIES. Ergodic Theory and Dynamical Systems - ERGOD THEOR DYN SYST. 18. 759-763. 10.1017/S0143385798121910. "
   ]
  }
 ],
 "metadata": {
  "kernelspec": {
   "display_name": "Python 3",
   "language": "python",
   "name": "python3"
  },
  "language_info": {
   "codemirror_mode": {
    "name": "ipython",
    "version": 3
   },
   "file_extension": ".py",
   "mimetype": "text/x-python",
   "name": "python",
   "nbconvert_exporter": "python",
   "pygments_lexer": "ipython3",
   "version": "3.8.8"
  }
 },
 "nbformat": 4,
 "nbformat_minor": 5
}
